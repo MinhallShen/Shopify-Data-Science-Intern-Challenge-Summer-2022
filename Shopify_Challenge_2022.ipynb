{
 "cells": [
  {
   "cell_type": "code",
   "execution_count": 1,
   "id": "rocky-kuwait",
   "metadata": {},
   "outputs": [
    {
     "data": {
      "text/plain": [
       "3145.128"
      ]
     },
     "execution_count": 1,
     "metadata": {},
     "output_type": "execute_result"
    }
   ],
   "source": [
    "import pandas as pd\n",
    "data = pd.read_excel(r'2019 Winter Data Science Intern Challenge Data Set.xlsx')\n",
    "data[\"order_amount\"].mean()"
   ]
  },
  {
   "cell_type": "code",
   "execution_count": 2,
   "id": "human-committee",
   "metadata": {},
   "outputs": [],
   "source": [
    "shop_dict = {}\n",
    "\n",
    "for index, row in data.iterrows():\n",
    "    if row[\"shop_id\"] not in shop_dict:\n",
    "        shop_dict[row[\"shop_id\"]] = [row[\"order_amount\"], row[\"total_items\"]]\n",
    "    else:\n",
    "        shop_dict[row[\"shop_id\"]][0] += row[\"order_amount\"]\n",
    "        shop_dict[row[\"shop_id\"]][1] += row[\"total_items\"]\n"
   ]
  },
  {
   "cell_type": "code",
   "execution_count": 7,
   "id": "owned-cancellation",
   "metadata": {},
   "outputs": [
    {
     "data": {
      "text/plain": [
       "407.99"
      ]
     },
     "execution_count": 7,
     "metadata": {},
     "output_type": "execute_result"
    }
   ],
   "source": [
    "item_price = []\n",
    "shop_id = []\n",
    "for key, value in shop_dict.items():\n",
    "    item_price.append(value[0]/value[1])\n",
    "    shop_id.append(key)\n",
    "    \n",
    "sum(item_price)/len(item_price)"
   ]
  },
  {
   "cell_type": "code",
   "execution_count": 10,
   "id": "located-plaza",
   "metadata": {},
   "outputs": [
    {
     "data": {
      "image/png": "[encoded data removed]",
      "text/plain": [
       "<Figure size 432x288 with 1 Axes>"
      ]
     },
     "metadata": {
      "needs_background": "light"
     },
     "output_type": "display_data"
    }
   ],
   "source": [
    "import matplotlib.pyplot as plt\n",
    "plt.plot(item_price, 'bo')\n",
    "plt.xlabel(\"Shop ID\")\n",
    "plt.ylabel(\"AOV\")\n",
    "plt.show()\n"
   ]
  },
  {
   "cell_type": "code",
   "execution_count": 15,
   "id": "radical-nomination",
   "metadata": {},
   "outputs": [
    {
     "data": {
      "text/plain": [
       "153.0"
      ]
     },
     "execution_count": 15,
     "metadata": {},
     "output_type": "execute_result"
    }
   ],
   "source": [
    "import statistics\n",
    "statistics.median(item_price)"
   ]
  },
  {
   "cell_type": "code",
   "execution_count": null,
   "id": "romantic-guess",
   "metadata": {},
   "outputs": [],
   "source": []
  }
 ],
 "metadata": {
  "kernelspec": {
   "display_name": "Python 3",
   "language": "python",
   "name": "python3"
  },
  "language_info": {
   "codemirror_mode": {
    "name": "ipython",
    "version": 3
   },
   "file_extension": ".py",
   "mimetype": "text/x-python",
   "name": "python",
   "nbconvert_exporter": "python",
   "pygments_lexer": "ipython3",
   "version": "3.9.2"
  }
 },
 "nbformat": 4,
 "nbformat_minor": 5
}
